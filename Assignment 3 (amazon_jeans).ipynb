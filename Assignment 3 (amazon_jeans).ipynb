{
 "cells": [
  {
   "cell_type": "code",
   "execution_count": 1,
   "metadata": {},
   "outputs": [],
   "source": [
    "from selenium import webdriver\n",
    "import os"
   ]
  },
  {
   "cell_type": "code",
   "execution_count": 2,
   "metadata": {},
   "outputs": [],
   "source": [
    "driver=webdriver.Chrome(executable_path='C:\\\\Users\\\\Karan\\\\Desktop\\\\chromedriver\\\\chromedriver.exe')"
   ]
  },
  {
   "cell_type": "code",
   "execution_count": 3,
   "metadata": {},
   "outputs": [],
   "source": [
    "my_page=driver.get(\"https://www.amazon.in/s?k=jeans+for+mens&page=2&crid=X1MQG667XIKW&qid=1594383485&sprefix=jeans%2Caps%2C736&ref=sr_pg_2\")"
   ]
  },
  {
   "cell_type": "code",
   "execution_count": 4,
   "metadata": {},
   "outputs": [],
   "source": [
    "def make_directory(dirname):\n",
    "    current_path=os.getcwd()\n",
    "    path=os.path.join(current_path,dirname)\n",
    "    if not os.path.exists(path):\n",
    "        os.makedirs(path)"
   ]
  },
  {
   "cell_type": "code",
   "execution_count": 5,
   "metadata": {},
   "outputs": [],
   "source": [
    "make_directory(\"amazon_jeans\")"
   ]
  },
  {
   "cell_type": "code",
   "execution_count": 6,
   "metadata": {},
   "outputs": [],
   "source": [
    "images=driver.find_elements_by_xpath(\"//div[@class='a-section aok-relative s-image-tall-aspect']//img\")\n",
    "#print(images)"
   ]
  },
  {
   "cell_type": "code",
   "execution_count": 7,
   "metadata": {},
   "outputs": [
    {
     "data": {
      "text/plain": [
       "60"
      ]
     },
     "execution_count": 7,
     "metadata": {},
     "output_type": "execute_result"
    }
   ],
   "source": [
    "len(images)"
   ]
  },
  {
   "cell_type": "code",
   "execution_count": 8,
   "metadata": {},
   "outputs": [
    {
     "name": "stdout",
     "output_type": "stream",
     "text": [
      "https://www.amazon.in/images/I/81b64rxO4LL._AC_UL320_.jpg\n",
      "https://www.amazon.in/images/I/61Don-d8JfL._AC_UL320_.jpg\n",
      "https://www.amazon.in/images/I/81dLNepm0KL._AC_UL320_.jpg\n",
      "https://www.amazon.in/images/I/818EXpi5RVL._AC_UL320_.jpg\n",
      "https://www.amazon.in/images/I/81txfZRypdL._AC_UL320_.jpg\n",
      "https://www.amazon.in/images/I/81sicqDAGDL._AC_UL320_.jpg\n",
      "https://www.amazon.in/images/I/613BYR2cUML._AC_UL320_.jpg\n",
      "https://www.amazon.in/images/I/917Q7zSMYhL._AC_UL320_.jpg\n",
      "https://www.amazon.in/images/I/81TGQJsW5kL._AC_UL320_.jpg\n",
      "https://www.amazon.in/images/I/61SCAuhMhPL._AC_UL320_.jpg\n",
      "https://www.amazon.in/images/I/81DCgL4q6fL._AC_UL320_.jpg\n",
      "https://www.amazon.in/images/I/61Do8wxortL._AC_UL320_.jpg\n",
      "https://www.amazon.in/images/I/81DkK3Vw4cL._AC_UL320_.jpg\n",
      "https://www.amazon.in/images/I/91hv09aoQnL._AC_UL320_.jpg\n",
      "https://www.amazon.in/images/I/91l0zH9T76L._AC_UL320_.jpg\n",
      "https://www.amazon.in/images/I/81WPnyOpoEL._AC_UL320_.jpg\n",
      "https://www.amazon.in/images/I/61imyUYM5SL._AC_UL320_.jpg\n",
      "https://www.amazon.in/images/I/71qpsMPjQIL._AC_UL320_.jpg\n",
      "https://www.amazon.in/images/I/81Y0MKp8XZL._AC_UL320_.jpg\n",
      "https://www.amazon.in/images/I/71afQFVGadL._AC_UL320_.jpg\n",
      "https://www.amazon.in/images/I/71xsreDRFKL._AC_UL320_.jpg\n",
      "https://www.amazon.in/images/I/613aUOVUTyL._AC_UL320_.jpg\n",
      "https://www.amazon.in/images/I/91OonjEXVqL._AC_UL320_.jpg\n",
      "https://www.amazon.in/images/I/91tsyQSaHPL._AC_UL320_.jpg\n",
      "https://www.amazon.in/images/I/81+wlwY-1zL._AC_UL320_.jpg\n",
      "https://www.amazon.in/images/I/51UlwkHPtmL._AC_UL320_.jpg\n",
      "https://www.amazon.in/images/I/91ThOhytvpL._AC_UL320_.jpg\n",
      "https://www.amazon.in/images/I/71ly4wsTYsL._AC_UL320_.jpg\n",
      "https://www.amazon.in/images/I/71-rRpSmtsL._AC_UL320_.jpg\n",
      "https://www.amazon.in/images/I/811eU2OFzWL._AC_UL320_.jpg\n",
      "https://www.amazon.in/images/I/81EUToudE8L._AC_UL320_.jpg\n",
      "https://www.amazon.in/images/I/81lVjSdOpnL._AC_UL320_.jpg\n",
      "https://www.amazon.in/images/I/61Gvg7wkexL._AC_UL320_.jpg\n",
      "https://www.amazon.in/images/I/61-AkY+dx1L._AC_UL320_.jpg\n",
      "https://www.amazon.in/images/I/71j3Bv1coxL._AC_UL320_.jpg\n",
      "https://www.amazon.in/images/I/41lacwsOLAL._AC_UL320_.jpg\n",
      "https://www.amazon.in/images/I/817cXnrZ7nL._AC_UL320_.jpg\n",
      "https://www.amazon.in/images/I/81c3iJVxhNL._AC_UL320_.jpg\n",
      "https://www.amazon.in/images/I/61PJp-UGw8L._AC_UL320_.jpg\n",
      "https://www.amazon.in/images/I/61nJ6tJX0VL._AC_UL320_.jpg\n",
      "https://www.amazon.in/images/I/91nyIb+BjtL._AC_UL320_.jpg\n",
      "https://www.amazon.in/images/I/81SpcDRRtZL._AC_UL320_.jpg\n",
      "https://www.amazon.in/images/I/81GU+DEFZkL._AC_UL320_.jpg\n",
      "https://www.amazon.in/images/I/81mrOFwqsoL._AC_UL320_.jpg\n",
      "https://www.amazon.in/images/I/61vbvuAOGXL._AC_UL320_.jpg\n",
      "https://www.amazon.in/images/I/81kmx7YKTtL._AC_UL320_.jpg\n",
      "https://www.amazon.in/images/I/81S-nUMJyaL._AC_UL320_.jpg\n",
      "https://www.amazon.in/images/I/71T6bPxPsNL._AC_UL320_.jpg\n",
      "https://www.amazon.in/images/I/81CFWKPMJ5L._AC_UL320_.jpg\n",
      "https://www.amazon.in/images/I/61yK+TRN6qL._AC_UL320_.jpg\n",
      "https://www.amazon.in/images/I/81KcPiaDQsL._AC_UL320_.jpg\n",
      "https://www.amazon.in/images/I/61YB0H8a3gL._AC_UL320_.jpg\n",
      "https://www.amazon.in/images/I/81dHi5qqRIL._AC_UL320_.jpg\n",
      "https://www.amazon.in/images/I/51SwzAjrsZL._AC_UL320_.jpg\n",
      "https://www.amazon.in/images/I/71yiM4nauKL._AC_UL320_.jpg\n",
      "https://www.amazon.in/images/I/71QYHN9yIsL._AC_UL320_.jpg\n",
      "https://www.amazon.in/images/I/81FmqMeTYPL._AC_UL320_.jpg\n",
      "https://www.amazon.in/images/I/61NclDLX9oL._AC_UL320_.jpg\n",
      "https://www.amazon.in/images/I/61dL-tqEQaL._AC_UL320_.jpg\n",
      "https://www.amazon.in/images/I/61i5rsBdkZL._AC_UL320_.jpg\n"
     ]
    }
   ],
   "source": [
    "urls=[]\n",
    "for image in images:\n",
    "    source=image.get_attribute('src')\n",
    "    urls.append(source)\n",
    "    print(source)"
   ]
  },
  {
   "cell_type": "code",
   "execution_count": 9,
   "metadata": {},
   "outputs": [],
   "source": [
    "import shutil\n",
    "import requests"
   ]
  },
  {
   "cell_type": "code",
   "execution_count": 10,
   "metadata": {},
   "outputs": [
    {
     "name": "stdout",
     "output_type": "stream",
     "text": [
      "Downloading 1 of 60 images\n",
      "Downloading 2 of 60 images\n",
      "Downloading 3 of 60 images\n",
      "Downloading 4 of 60 images\n",
      "Downloading 5 of 60 images\n",
      "Downloading 6 of 60 images\n",
      "Downloading 7 of 60 images\n",
      "Downloading 8 of 60 images\n",
      "Downloading 9 of 60 images\n",
      "Downloading 10 of 60 images\n",
      "Downloading 11 of 60 images\n",
      "Downloading 12 of 60 images\n",
      "Downloading 13 of 60 images\n",
      "Downloading 14 of 60 images\n",
      "Downloading 15 of 60 images\n",
      "Downloading 16 of 60 images\n",
      "Downloading 17 of 60 images\n",
      "Downloading 18 of 60 images\n",
      "Downloading 19 of 60 images\n",
      "Downloading 20 of 60 images\n",
      "Downloading 21 of 60 images\n",
      "Downloading 22 of 60 images\n",
      "Downloading 23 of 60 images\n",
      "Downloading 24 of 60 images\n",
      "Downloading 25 of 60 images\n",
      "Downloading 26 of 60 images\n",
      "Downloading 27 of 60 images\n",
      "Downloading 28 of 60 images\n",
      "Downloading 29 of 60 images\n",
      "Downloading 30 of 60 images\n",
      "Downloading 31 of 60 images\n",
      "Downloading 32 of 60 images\n",
      "Downloading 33 of 60 images\n",
      "Downloading 34 of 60 images\n",
      "Downloading 35 of 60 images\n",
      "Downloading 36 of 60 images\n",
      "Downloading 37 of 60 images\n",
      "Downloading 38 of 60 images\n",
      "Downloading 39 of 60 images\n",
      "Downloading 40 of 60 images\n",
      "Downloading 41 of 60 images\n",
      "Downloading 42 of 60 images\n",
      "Downloading 43 of 60 images\n",
      "Downloading 44 of 60 images\n",
      "Downloading 45 of 60 images\n",
      "Downloading 46 of 60 images\n",
      "Downloading 47 of 60 images\n",
      "Downloading 48 of 60 images\n",
      "Downloading 49 of 60 images\n",
      "Downloading 50 of 60 images\n",
      "Downloading 51 of 60 images\n",
      "Downloading 52 of 60 images\n",
      "Downloading 53 of 60 images\n",
      "Downloading 54 of 60 images\n",
      "Downloading 55 of 60 images\n",
      "Downloading 56 of 60 images\n",
      "Downloading 57 of 60 images\n",
      "Downloading 58 of 60 images\n",
      "Downloading 59 of 60 images\n",
      "Downloading 60 of 60 images\n"
     ]
    }
   ],
   "source": [
    "for index, link in enumerate(urls):\n",
    "    print(\"Downloading {0} of {1} images\". format(index+1, len(urls)))\n",
    "    response = requests.get(link)\n",
    "    with open('amazon_jeans/img_{0}.jpeg'.format(index), \"wb\") as file:\n",
    "        file.write(response.content)"
   ]
  },
  {
   "cell_type": "code",
   "execution_count": null,
   "metadata": {},
   "outputs": [],
   "source": []
  }
 ],
 "metadata": {
  "kernelspec": {
   "display_name": "Python 3",
   "language": "python",
   "name": "python3"
  },
  "language_info": {
   "codemirror_mode": {
    "name": "ipython",
    "version": 3
   },
   "file_extension": ".py",
   "mimetype": "text/x-python",
   "name": "python",
   "nbconvert_exporter": "python",
   "pygments_lexer": "ipython3",
   "version": "3.7.3"
  }
 },
 "nbformat": 4,
 "nbformat_minor": 4
}
