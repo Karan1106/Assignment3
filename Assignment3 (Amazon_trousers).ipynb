{
 "cells": [
  {
   "cell_type": "code",
   "execution_count": 1,
   "metadata": {},
   "outputs": [],
   "source": [
    "from selenium import webdriver\n",
    "import os"
   ]
  },
  {
   "cell_type": "code",
   "execution_count": 2,
   "metadata": {},
   "outputs": [],
   "source": [
    "driver=webdriver.Chrome(executable_path='C:\\\\Users\\\\Karan\\\\Desktop\\\\chromedriver\\\\chromedriver.exe')"
   ]
  },
  {
   "cell_type": "code",
   "execution_count": 4,
   "metadata": {},
   "outputs": [],
   "source": [
    "url=driver.get('https://www.amazon.in/s?k=trousers+for+mens&page=2&crid=3ID0LPWS3YJWZ&qid=1594382943&sprefix=trousers+for+%2Caps%2C349&ref=sr_pg_2')"
   ]
  },
  {
   "cell_type": "code",
   "execution_count": 5,
   "metadata": {},
   "outputs": [],
   "source": [
    "#MAking the directory to store images"
   ]
  },
  {
   "cell_type": "code",
   "execution_count": 6,
   "metadata": {},
   "outputs": [],
   "source": [
    "\n",
    "def make_directory(dirname):\n",
    "    current_path=os.getcwd()\n",
    "    path=os.path.join(current_path,dirname)\n",
    "    if not os.path.exists(path):\n",
    "        os.makedirs(path)\n"
   ]
  },
  {
   "cell_type": "code",
   "execution_count": 7,
   "metadata": {},
   "outputs": [],
   "source": [
    "make_directory(\"amazon_trousers\")"
   ]
  },
  {
   "cell_type": "code",
   "execution_count": 8,
   "metadata": {},
   "outputs": [],
   "source": [
    "#Scraping image URLs"
   ]
  },
  {
   "cell_type": "code",
   "execution_count": 13,
   "metadata": {},
   "outputs": [
    {
     "name": "stdout",
     "output_type": "stream",
     "text": [
      "[<selenium.webdriver.remote.webelement.WebElement (session=\"1b1bca1013ae1ee0c66a6372b5dea44b\", element=\"0.02654462134793878-1\")>, <selenium.webdriver.remote.webelement.WebElement (session=\"1b1bca1013ae1ee0c66a6372b5dea44b\", element=\"0.02654462134793878-2\")>, <selenium.webdriver.remote.webelement.WebElement (session=\"1b1bca1013ae1ee0c66a6372b5dea44b\", element=\"0.02654462134793878-3\")>, <selenium.webdriver.remote.webelement.WebElement (session=\"1b1bca1013ae1ee0c66a6372b5dea44b\", element=\"0.02654462134793878-4\")>, <selenium.webdriver.remote.webelement.WebElement (session=\"1b1bca1013ae1ee0c66a6372b5dea44b\", element=\"0.02654462134793878-5\")>, <selenium.webdriver.remote.webelement.WebElement (session=\"1b1bca1013ae1ee0c66a6372b5dea44b\", element=\"0.02654462134793878-6\")>, <selenium.webdriver.remote.webelement.WebElement (session=\"1b1bca1013ae1ee0c66a6372b5dea44b\", element=\"0.02654462134793878-7\")>, <selenium.webdriver.remote.webelement.WebElement (session=\"1b1bca1013ae1ee0c66a6372b5dea44b\", element=\"0.02654462134793878-8\")>, <selenium.webdriver.remote.webelement.WebElement (session=\"1b1bca1013ae1ee0c66a6372b5dea44b\", element=\"0.02654462134793878-9\")>, <selenium.webdriver.remote.webelement.WebElement (session=\"1b1bca1013ae1ee0c66a6372b5dea44b\", element=\"0.02654462134793878-10\")>, <selenium.webdriver.remote.webelement.WebElement (session=\"1b1bca1013ae1ee0c66a6372b5dea44b\", element=\"0.02654462134793878-11\")>, <selenium.webdriver.remote.webelement.WebElement (session=\"1b1bca1013ae1ee0c66a6372b5dea44b\", element=\"0.02654462134793878-12\")>, <selenium.webdriver.remote.webelement.WebElement (session=\"1b1bca1013ae1ee0c66a6372b5dea44b\", element=\"0.02654462134793878-13\")>, <selenium.webdriver.remote.webelement.WebElement (session=\"1b1bca1013ae1ee0c66a6372b5dea44b\", element=\"0.02654462134793878-14\")>, <selenium.webdriver.remote.webelement.WebElement (session=\"1b1bca1013ae1ee0c66a6372b5dea44b\", element=\"0.02654462134793878-15\")>, <selenium.webdriver.remote.webelement.WebElement (session=\"1b1bca1013ae1ee0c66a6372b5dea44b\", element=\"0.02654462134793878-16\")>, <selenium.webdriver.remote.webelement.WebElement (session=\"1b1bca1013ae1ee0c66a6372b5dea44b\", element=\"0.02654462134793878-17\")>, <selenium.webdriver.remote.webelement.WebElement (session=\"1b1bca1013ae1ee0c66a6372b5dea44b\", element=\"0.02654462134793878-18\")>, <selenium.webdriver.remote.webelement.WebElement (session=\"1b1bca1013ae1ee0c66a6372b5dea44b\", element=\"0.02654462134793878-19\")>, <selenium.webdriver.remote.webelement.WebElement (session=\"1b1bca1013ae1ee0c66a6372b5dea44b\", element=\"0.02654462134793878-20\")>, <selenium.webdriver.remote.webelement.WebElement (session=\"1b1bca1013ae1ee0c66a6372b5dea44b\", element=\"0.02654462134793878-21\")>, <selenium.webdriver.remote.webelement.WebElement (session=\"1b1bca1013ae1ee0c66a6372b5dea44b\", element=\"0.02654462134793878-22\")>, <selenium.webdriver.remote.webelement.WebElement (session=\"1b1bca1013ae1ee0c66a6372b5dea44b\", element=\"0.02654462134793878-23\")>, <selenium.webdriver.remote.webelement.WebElement (session=\"1b1bca1013ae1ee0c66a6372b5dea44b\", element=\"0.02654462134793878-24\")>, <selenium.webdriver.remote.webelement.WebElement (session=\"1b1bca1013ae1ee0c66a6372b5dea44b\", element=\"0.02654462134793878-25\")>, <selenium.webdriver.remote.webelement.WebElement (session=\"1b1bca1013ae1ee0c66a6372b5dea44b\", element=\"0.02654462134793878-26\")>, <selenium.webdriver.remote.webelement.WebElement (session=\"1b1bca1013ae1ee0c66a6372b5dea44b\", element=\"0.02654462134793878-27\")>, <selenium.webdriver.remote.webelement.WebElement (session=\"1b1bca1013ae1ee0c66a6372b5dea44b\", element=\"0.02654462134793878-28\")>, <selenium.webdriver.remote.webelement.WebElement (session=\"1b1bca1013ae1ee0c66a6372b5dea44b\", element=\"0.02654462134793878-29\")>, <selenium.webdriver.remote.webelement.WebElement (session=\"1b1bca1013ae1ee0c66a6372b5dea44b\", element=\"0.02654462134793878-30\")>, <selenium.webdriver.remote.webelement.WebElement (session=\"1b1bca1013ae1ee0c66a6372b5dea44b\", element=\"0.02654462134793878-31\")>, <selenium.webdriver.remote.webelement.WebElement (session=\"1b1bca1013ae1ee0c66a6372b5dea44b\", element=\"0.02654462134793878-32\")>, <selenium.webdriver.remote.webelement.WebElement (session=\"1b1bca1013ae1ee0c66a6372b5dea44b\", element=\"0.02654462134793878-33\")>, <selenium.webdriver.remote.webelement.WebElement (session=\"1b1bca1013ae1ee0c66a6372b5dea44b\", element=\"0.02654462134793878-34\")>, <selenium.webdriver.remote.webelement.WebElement (session=\"1b1bca1013ae1ee0c66a6372b5dea44b\", element=\"0.02654462134793878-35\")>, <selenium.webdriver.remote.webelement.WebElement (session=\"1b1bca1013ae1ee0c66a6372b5dea44b\", element=\"0.02654462134793878-36\")>, <selenium.webdriver.remote.webelement.WebElement (session=\"1b1bca1013ae1ee0c66a6372b5dea44b\", element=\"0.02654462134793878-37\")>, <selenium.webdriver.remote.webelement.WebElement (session=\"1b1bca1013ae1ee0c66a6372b5dea44b\", element=\"0.02654462134793878-38\")>, <selenium.webdriver.remote.webelement.WebElement (session=\"1b1bca1013ae1ee0c66a6372b5dea44b\", element=\"0.02654462134793878-39\")>, <selenium.webdriver.remote.webelement.WebElement (session=\"1b1bca1013ae1ee0c66a6372b5dea44b\", element=\"0.02654462134793878-40\")>, <selenium.webdriver.remote.webelement.WebElement (session=\"1b1bca1013ae1ee0c66a6372b5dea44b\", element=\"0.02654462134793878-41\")>, <selenium.webdriver.remote.webelement.WebElement (session=\"1b1bca1013ae1ee0c66a6372b5dea44b\", element=\"0.02654462134793878-42\")>, <selenium.webdriver.remote.webelement.WebElement (session=\"1b1bca1013ae1ee0c66a6372b5dea44b\", element=\"0.02654462134793878-43\")>, <selenium.webdriver.remote.webelement.WebElement (session=\"1b1bca1013ae1ee0c66a6372b5dea44b\", element=\"0.02654462134793878-44\")>, <selenium.webdriver.remote.webelement.WebElement (session=\"1b1bca1013ae1ee0c66a6372b5dea44b\", element=\"0.02654462134793878-45\")>, <selenium.webdriver.remote.webelement.WebElement (session=\"1b1bca1013ae1ee0c66a6372b5dea44b\", element=\"0.02654462134793878-46\")>, <selenium.webdriver.remote.webelement.WebElement (session=\"1b1bca1013ae1ee0c66a6372b5dea44b\", element=\"0.02654462134793878-47\")>, <selenium.webdriver.remote.webelement.WebElement (session=\"1b1bca1013ae1ee0c66a6372b5dea44b\", element=\"0.02654462134793878-48\")>, <selenium.webdriver.remote.webelement.WebElement (session=\"1b1bca1013ae1ee0c66a6372b5dea44b\", element=\"0.02654462134793878-49\")>, <selenium.webdriver.remote.webelement.WebElement (session=\"1b1bca1013ae1ee0c66a6372b5dea44b\", element=\"0.02654462134793878-50\")>, <selenium.webdriver.remote.webelement.WebElement (session=\"1b1bca1013ae1ee0c66a6372b5dea44b\", element=\"0.02654462134793878-51\")>, <selenium.webdriver.remote.webelement.WebElement (session=\"1b1bca1013ae1ee0c66a6372b5dea44b\", element=\"0.02654462134793878-52\")>, <selenium.webdriver.remote.webelement.WebElement (session=\"1b1bca1013ae1ee0c66a6372b5dea44b\", element=\"0.02654462134793878-53\")>, <selenium.webdriver.remote.webelement.WebElement (session=\"1b1bca1013ae1ee0c66a6372b5dea44b\", element=\"0.02654462134793878-54\")>, <selenium.webdriver.remote.webelement.WebElement (session=\"1b1bca1013ae1ee0c66a6372b5dea44b\", element=\"0.02654462134793878-55\")>, <selenium.webdriver.remote.webelement.WebElement (session=\"1b1bca1013ae1ee0c66a6372b5dea44b\", element=\"0.02654462134793878-56\")>, <selenium.webdriver.remote.webelement.WebElement (session=\"1b1bca1013ae1ee0c66a6372b5dea44b\", element=\"0.02654462134793878-57\")>, <selenium.webdriver.remote.webelement.WebElement (session=\"1b1bca1013ae1ee0c66a6372b5dea44b\", element=\"0.02654462134793878-58\")>, <selenium.webdriver.remote.webelement.WebElement (session=\"1b1bca1013ae1ee0c66a6372b5dea44b\", element=\"0.02654462134793878-59\")>, <selenium.webdriver.remote.webelement.WebElement (session=\"1b1bca1013ae1ee0c66a6372b5dea44b\", element=\"0.02654462134793878-60\")>]\n"
     ]
    }
   ],
   "source": [
    "images=driver.find_elements_by_xpath(\"//div[@class='a-section aok-relative s-image-tall-aspect']//img\")\n",
    "print(images)"
   ]
  },
  {
   "cell_type": "code",
   "execution_count": 14,
   "metadata": {},
   "outputs": [
    {
     "data": {
      "text/plain": [
       "60"
      ]
     },
     "execution_count": 14,
     "metadata": {},
     "output_type": "execute_result"
    }
   ],
   "source": [
    "len(images)"
   ]
  },
  {
   "cell_type": "code",
   "execution_count": 15,
   "metadata": {},
   "outputs": [
    {
     "name": "stdout",
     "output_type": "stream",
     "text": [
      "https://m.media-amazon.com/images/I/81uTY7mxCvL._AC_UL320_.jpg\n",
      "https://m.media-amazon.com/images/I/71pscH78yAL._AC_UL320_.jpg\n",
      "https://m.media-amazon.com/images/I/71VM9Gq7-yL._AC_UL320_.jpg\n",
      "https://m.media-amazon.com/images/I/71Q5-OwPRoL._AC_UL320_.jpg\n",
      "https://m.media-amazon.com/images/I/71cS+m0grEL._AC_UL320_.jpg\n",
      "https://m.media-amazon.com/images/I/91XQVgnztpL._AC_UL320_.jpg\n",
      "https://m.media-amazon.com/images/I/71jfz6ObDfL._AC_UL320_.jpg\n",
      "https://m.media-amazon.com/images/I/614eL6I6pTL._AC_UL320_.jpg\n",
      "https://m.media-amazon.com/images/I/71uXcIAoIiL._AC_UL320_.jpg\n",
      "https://m.media-amazon.com/images/I/71OVM77b6eL._AC_UL320_.jpg\n",
      "https://m.media-amazon.com/images/I/71eiUdDG0IL._AC_UL320_.jpg\n",
      "https://m.media-amazon.com/images/I/81tdClK-HgL._AC_UL320_.jpg\n",
      "https://m.media-amazon.com/images/I/81taeOzAXuL._AC_UL320_.jpg\n",
      "https://m.media-amazon.com/images/I/71prS1CMp9L._AC_UL320_.jpg\n",
      "https://m.media-amazon.com/images/I/614hfEDK-lL._AC_UL320_.jpg\n",
      "https://m.media-amazon.com/images/I/819Znqi8RAL._AC_UL320_.jpg\n",
      "https://m.media-amazon.com/images/I/71W33t0J2iL._AC_UL320_.jpg\n",
      "https://m.media-amazon.com/images/I/71RV-rzm+aL._AC_UL320_.jpg\n",
      "https://m.media-amazon.com/images/I/812+Y-oVn+L._AC_UL320_.jpg\n",
      "https://m.media-amazon.com/images/I/61RebpCZsiL._AC_UL320_.jpg\n",
      "https://m.media-amazon.com/images/I/71q27WvCouL._AC_UL320_.jpg\n",
      "https://m.media-amazon.com/images/I/71FSgLuae6L._AC_UL320_.jpg\n",
      "https://m.media-amazon.com/images/I/71ac8olf5AL._AC_UL320_.jpg\n",
      "https://m.media-amazon.com/images/I/618eMduURAL._AC_UL320_.jpg\n",
      "https://m.media-amazon.com/images/I/713sRhQ2pNL._AC_UL320_.jpg\n",
      "https://m.media-amazon.com/images/I/81g5ctyMTnL._AC_UL320_.jpg\n",
      "https://m.media-amazon.com/images/I/61NKxXc+lIL._AC_UL320_.jpg\n",
      "https://m.media-amazon.com/images/I/61O3MPs2sDL._AC_UL320_.jpg\n",
      "https://m.media-amazon.com/images/I/91CuDVyViYL._AC_UL320_.jpg\n",
      "https://m.media-amazon.com/images/I/71BW9r0Y+5L._AC_UL320_.jpg\n",
      "https://m.media-amazon.com/images/I/71RSVthiCVL._AC_UL320_.jpg\n",
      "https://m.media-amazon.com/images/I/71x8lA8O1DL._AC_UL320_.jpg\n",
      "https://m.media-amazon.com/images/I/81t8j3r8yvL._AC_UL320_.jpg\n",
      "https://m.media-amazon.com/images/I/814gCkbgoEL._AC_UL320_.jpg\n",
      "https://m.media-amazon.com/images/I/81aLEvSqU+L._AC_UL320_.jpg\n",
      "https://m.media-amazon.com/images/I/71lqNylUSfL._AC_UL320_.jpg\n",
      "https://m.media-amazon.com/images/I/71PrXdVleqL._AC_UL320_.jpg\n",
      "https://m.media-amazon.com/images/I/7160AxFQOvL._AC_UL320_.jpg\n",
      "https://m.media-amazon.com/images/I/71QPxqT3aVL._AC_UL320_.jpg\n",
      "https://m.media-amazon.com/images/I/81fAP423MwL._AC_UL320_.jpg\n",
      "https://m.media-amazon.com/images/I/51xSZ3-etZL._AC_UL320_.jpg\n",
      "https://m.media-amazon.com/images/I/7191lWURbBL._AC_UL320_.jpg\n",
      "https://m.media-amazon.com/images/I/810LLDqT7XL._AC_UL320_.jpg\n",
      "https://m.media-amazon.com/images/I/71i6ADM-RzL._AC_UL320_.jpg\n",
      "https://m.media-amazon.com/images/I/71UJ1+LayuL._AC_UL320_.jpg\n",
      "https://m.media-amazon.com/images/I/71aBKnaUioL._AC_UL320_.jpg\n",
      "https://m.media-amazon.com/images/I/715KD0GZaZL._AC_UL320_.jpg\n",
      "https://m.media-amazon.com/images/I/81Jc2ljIzIL._AC_UL320_.jpg\n",
      "https://m.media-amazon.com/images/I/912rOU3bNYL._AC_UL320_.jpg\n",
      "https://m.media-amazon.com/images/I/71qC+yUuhNL._AC_UL320_.jpg\n",
      "https://m.media-amazon.com/images/I/71Ztb4Y0euL._AC_UL320_.jpg\n",
      "https://m.media-amazon.com/images/I/71NMe9wES4L._AC_UL320_.jpg\n",
      "https://m.media-amazon.com/images/I/610JEqQmS6L._AC_UL320_.jpg\n",
      "https://m.media-amazon.com/images/I/71Vj3G3tcPL._AC_UL320_.jpg\n",
      "https://m.media-amazon.com/images/I/71OX9ErbIqL._AC_UL320_.jpg\n",
      "https://m.media-amazon.com/images/I/71dUvOr7s9L._AC_UL320_.jpg\n",
      "https://m.media-amazon.com/images/I/714mN8MQ5pL._AC_UL320_.jpg\n",
      "https://m.media-amazon.com/images/I/81y+9zORkvL._AC_UL320_.jpg\n",
      "https://m.media-amazon.com/images/I/81ZpvFewoOL._AC_UL320_.jpg\n",
      "https://m.media-amazon.com/images/I/51j+7DGQDyL._AC_UL320_.jpg\n"
     ]
    }
   ],
   "source": [
    "urls= []\n",
    "for image in images:\n",
    "    source=image.get_attribute('src')\n",
    "    urls.append(source)\n",
    "    print(source)"
   ]
  },
  {
   "cell_type": "code",
   "execution_count": 16,
   "metadata": {},
   "outputs": [],
   "source": [
    "#USing URls to download images"
   ]
  },
  {
   "cell_type": "code",
   "execution_count": 17,
   "metadata": {},
   "outputs": [],
   "source": [
    "import shutil\n",
    "import requests"
   ]
  },
  {
   "cell_type": "code",
   "execution_count": 18,
   "metadata": {},
   "outputs": [
    {
     "name": "stdout",
     "output_type": "stream",
     "text": [
      "Downloading 1 of 60 images\n",
      "Downloading 2 of 60 images\n",
      "Downloading 3 of 60 images\n",
      "Downloading 4 of 60 images\n",
      "Downloading 5 of 60 images\n",
      "Downloading 6 of 60 images\n",
      "Downloading 7 of 60 images\n",
      "Downloading 8 of 60 images\n",
      "Downloading 9 of 60 images\n",
      "Downloading 10 of 60 images\n",
      "Downloading 11 of 60 images\n",
      "Downloading 12 of 60 images\n",
      "Downloading 13 of 60 images\n",
      "Downloading 14 of 60 images\n",
      "Downloading 15 of 60 images\n",
      "Downloading 16 of 60 images\n",
      "Downloading 17 of 60 images\n",
      "Downloading 18 of 60 images\n",
      "Downloading 19 of 60 images\n",
      "Downloading 20 of 60 images\n",
      "Downloading 21 of 60 images\n",
      "Downloading 22 of 60 images\n",
      "Downloading 23 of 60 images\n",
      "Downloading 24 of 60 images\n",
      "Downloading 25 of 60 images\n",
      "Downloading 26 of 60 images\n",
      "Downloading 27 of 60 images\n",
      "Downloading 28 of 60 images\n",
      "Downloading 29 of 60 images\n",
      "Downloading 30 of 60 images\n",
      "Downloading 31 of 60 images\n",
      "Downloading 32 of 60 images\n",
      "Downloading 33 of 60 images\n",
      "Downloading 34 of 60 images\n",
      "Downloading 35 of 60 images\n",
      "Downloading 36 of 60 images\n",
      "Downloading 37 of 60 images\n",
      "Downloading 38 of 60 images\n",
      "Downloading 39 of 60 images\n",
      "Downloading 40 of 60 images\n",
      "Downloading 41 of 60 images\n",
      "Downloading 42 of 60 images\n",
      "Downloading 43 of 60 images\n",
      "Downloading 44 of 60 images\n",
      "Downloading 45 of 60 images\n",
      "Downloading 46 of 60 images\n",
      "Downloading 47 of 60 images\n",
      "Downloading 48 of 60 images\n",
      "Downloading 49 of 60 images\n",
      "Downloading 50 of 60 images\n",
      "Downloading 51 of 60 images\n",
      "Downloading 52 of 60 images\n",
      "Downloading 53 of 60 images\n",
      "Downloading 54 of 60 images\n",
      "Downloading 55 of 60 images\n",
      "Downloading 56 of 60 images\n",
      "Downloading 57 of 60 images\n",
      "Downloading 58 of 60 images\n",
      "Downloading 59 of 60 images\n",
      "Downloading 60 of 60 images\n"
     ]
    }
   ],
   "source": [
    "for index, link in enumerate(urls):\n",
    "    print(\"Downloading {0} of {1} images\".format(index+1, len(urls)))\n",
    "    response=requests.get(link)\n",
    "    with open('amazon_trousers/img_{0}.jpeg'.format(index), \"wb\") as file:\n",
    "        file.write(response.content)"
   ]
  },
  {
   "cell_type": "code",
   "execution_count": null,
   "metadata": {},
   "outputs": [],
   "source": []
  }
 ],
 "metadata": {
  "kernelspec": {
   "display_name": "Python 3",
   "language": "python",
   "name": "python3"
  },
  "language_info": {
   "codemirror_mode": {
    "name": "ipython",
    "version": 3
   },
   "file_extension": ".py",
   "mimetype": "text/x-python",
   "name": "python",
   "nbconvert_exporter": "python",
   "pygments_lexer": "ipython3",
   "version": "3.7.3"
  }
 },
 "nbformat": 4,
 "nbformat_minor": 4
}
