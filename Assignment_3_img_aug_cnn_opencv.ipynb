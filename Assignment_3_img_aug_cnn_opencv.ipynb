{
  "nbformat": 4,
  "nbformat_minor": 0,
  "metadata": {
    "colab": {
      "name": "Assignment 3 img aug cnn opencv.ipynb",
      "provenance": [],
      "collapsed_sections": [],
      "authorship_tag": "ABX9TyOI7BBFbySetYc8IY6vLqg4",
      "include_colab_link": true
    },
    "kernelspec": {
      "name": "python3",
      "display_name": "Python 3"
    },
    "accelerator": "GPU"
  },
  "cells": [
    {
      "cell_type": "markdown",
      "metadata": {
        "id": "view-in-github",
        "colab_type": "text"
      },
      "source": [
        "<a href=\"https://colab.research.google.com/github/Karan1106/Assignment3/blob/master/Assignment_3_img_aug_cnn_opencv.ipynb\" target=\"_parent\"><img src=\"https://colab.research.google.com/assets/colab-badge.svg\" alt=\"Open In Colab\"/></a>"
      ]
    },
    {
      "cell_type": "code",
      "metadata": {
        "id": "qjzFUzoJS8cB",
        "colab_type": "code",
        "colab": {
          "base_uri": "https://localhost:8080/",
          "height": 122
        },
        "outputId": "0214a58d-1ea2-446d-ba8e-ee19e03f183d"
      },
      "source": [
        "from google.colab import drive\n",
        "drive.mount('/content/gdrive')"
      ],
      "execution_count": null,
      "outputs": [
        {
          "output_type": "stream",
          "text": [
            "Go to this URL in a browser: https://accounts.google.com/o/oauth2/auth?client_id=947318989803-6bn6qk8qdgf4n4g3pfee6491hc0brc4i.apps.googleusercontent.com&redirect_uri=urn%3aietf%3awg%3aoauth%3a2.0%3aoob&response_type=code&scope=email%20https%3a%2f%2fwww.googleapis.com%2fauth%2fdocs.test%20https%3a%2f%2fwww.googleapis.com%2fauth%2fdrive%20https%3a%2f%2fwww.googleapis.com%2fauth%2fdrive.photos.readonly%20https%3a%2f%2fwww.googleapis.com%2fauth%2fpeopleapi.readonly\n",
            "\n",
            "Enter your authorization code:\n",
            "··········\n",
            "Mounted at /content/gdrive\n"
          ],
          "name": "stdout"
        }
      ]
    },
    {
      "cell_type": "code",
      "metadata": {
        "id": "JkWvyuJyd7lo",
        "colab_type": "code",
        "colab": {
          "base_uri": "https://localhost:8080/",
          "height": 51
        },
        "outputId": "ca949f4d-d64f-45c2-9cfb-d342d28331e2"
      },
      "source": [
        "%tensorflow_version 1.x\n",
        "import tensorflow as tf\n",
        "print(tf.__version__)"
      ],
      "execution_count": null,
      "outputs": [
        {
          "output_type": "stream",
          "text": [
            "TensorFlow 1.x selected.\n",
            "1.15.2\n"
          ],
          "name": "stdout"
        }
      ]
    },
    {
      "cell_type": "code",
      "metadata": {
        "id": "IuSwcIpeb4gc",
        "colab_type": "code",
        "colab": {}
      },
      "source": [
        "import cv2\n",
        "import numpy as np\n",
        "from google.colab.patches import cv2_imshow\n",
        "import os\n",
        "import random\n",
        "from scipy import ndarray"
      ],
      "execution_count": null,
      "outputs": []
    },
    {
      "cell_type": "markdown",
      "metadata": {
        "id": "BaPKucracGsi",
        "colab_type": "text"
      },
      "source": [
        "Data Augmentation using opencv (Jeans)\n",
        "\n",
        "1.   List item\n",
        "2.   List item\n",
        "\n"
      ]
    },
    {
      "cell_type": "code",
      "metadata": {
        "id": "vqPX2FZ6b_Ae",
        "colab_type": "code",
        "colab": {}
      },
      "source": [
        "from scipy import ndimage, misc\n",
        "import numpy as np\n",
        "import os\n",
        "import cv2\n",
        "\n",
        "def rotate():\n",
        "    outPath = \"/content/gdrive/My Drive/Colab Notebooks/A3 Augmented images/jeans\"\n",
        "    path = \"/content/gdrive/My Drive/Colab Notebooks/Scrap_train/jeans\"\n",
        "\n",
        "    # iterate through the names of contents of the folder\n",
        "    for image_path in os.listdir(path):\n",
        "\n",
        "        # create the full input path and read the file\n",
        "        input_path = os.path.join(path, image_path)\n",
        "        image_to_rotate = cv2.imread(input_path)\n",
        "\n",
        "        # rotate the image\n",
        "        img_rotate_90_clockwise = cv2.rotate(image_to_rotate, cv2.ROTATE_90_CLOCKWISE)\n",
        "\n",
        "\n",
        "        # create full output path, 'example.jpg' \n",
        "        # becomes 'rotate_example.jpg', save the file to disk\n",
        "        fullpath = os.path.join(outPath, 'rotated_'+image_path)\n",
        "        cv2.imwrite(fullpath, img_rotate_90_clockwise)\n",
        "\n",
        "if __name__ == '__main__':\n",
        "    rotate()"
      ],
      "execution_count": null,
      "outputs": []
    },
    {
      "cell_type": "code",
      "metadata": {
        "id": "g8p1fKOhcQ3k",
        "colab_type": "code",
        "colab": {}
      },
      "source": [
        "def resize():\n",
        "    outPath = \"/content/gdrive/My Drive/Colab Notebooks/A3 Augmented images/jeans\"\n",
        "    path = \"/content/gdrive/My Drive/Colab Notebooks/Scrap_train/jeans\"\n",
        "\n",
        "    # iterate through the names of contents of the folder\n",
        "    for image_path in os.listdir(path):\n",
        "\n",
        "        # create the full input path and read the file\n",
        "        input_path = os.path.join(path, image_path)\n",
        "        image_to_resize = cv2.imread(input_path)\n",
        "\n",
        "        # resize the image\n",
        "        image_resized = cv2.resize(image_to_resize, (300, 200))\n",
        "\n",
        "        image_rgb = cv2.cvtColor(image_to_resize, cv2.COLOR_BGR2RGB)\n",
        "\n",
        "        # create full output path, 'example.jpg' \n",
        "        # becomes 'resize_example.jpg', save the file to disk\n",
        "        fullpath = os.path.join(outPath, 'resize_'+image_path)\n",
        "        cv2.imwrite(fullpath, image_resized)\n",
        "\n",
        "if __name__ == '__main__':\n",
        "    resize()"
      ],
      "execution_count": null,
      "outputs": []
    },
    {
      "cell_type": "code",
      "metadata": {
        "id": "ufBb3p15dba-",
        "colab_type": "code",
        "colab": {}
      },
      "source": [
        "\n",
        "def flip():\n",
        "    outPath = \"/content/gdrive/My Drive/Colab Notebooks/A3 Augmented images/jeans\"\n",
        "    path = \"/content/gdrive/My Drive/Colab Notebooks/Scrap_train/jeans\"\n",
        "\n",
        "    # iterate through the names of contents of the folder\n",
        "    for image_path in os.listdir(path):\n",
        "\n",
        "        # create the full input path and read the file\n",
        "        input_path = os.path.join(path, image_path)\n",
        "        image_to_flip = cv2.imread(input_path)\n",
        "\n",
        "        # flip the image\n",
        "        img_flip_ud = cv2.flip(image_to_flip, 0)\n",
        "        \n",
        "\n",
        "\n",
        "        # create full output path, 'example.jpg' \n",
        "        # becomes 'flip_example.jpg', save the file to disk\n",
        "        fullpath = os.path.join(outPath, 'flip_'+image_path)\n",
        "        cv2.imwrite(fullpath, img_flip_ud)\n",
        "\n",
        "if __name__ == '__main__':\n",
        "    flip()"
      ],
      "execution_count": null,
      "outputs": []
    },
    {
      "cell_type": "code",
      "metadata": {
        "id": "qgxEBw15dmQQ",
        "colab_type": "code",
        "colab": {}
      },
      "source": [
        "def sharpen():\n",
        "    outPath = \"/content/gdrive/My Drive/Colab Notebooks/A3 Augmented images/jeans\"\n",
        "    path = \"/content/gdrive/My Drive/Colab Notebooks/Scrap_train/jeans\"\n",
        "\n",
        "    # iterate through the names of contents of the folder\n",
        "    for image_path in os.listdir(path):\n",
        "\n",
        "        # create the full input path and read the file\n",
        "        input_path = os.path.join(path, image_path)\n",
        "        image_to_sharp = cv2.imread(input_path)\n",
        "\n",
        "        # sharp the image\n",
        "        kernel = np.array([[0, -1, 0], \n",
        "                   [-1, 5,-1], \n",
        "                   [0, -1, 0]])\n",
        "        \n",
        "\n",
        "        # Sharpen image\n",
        "        image_sharp = cv2.filter2D(image_to_sharp, -1, kernel)\n",
        "        \n",
        "        # create full output path, 'example.jpg' \n",
        "        # becomes 'sharp_example.jpg', save the file to disk\n",
        "        fullpath = os.path.join(outPath, 'sharp_'+image_path)\n",
        "        cv2.imwrite(fullpath, image_sharp)\n",
        "\n",
        "if __name__ == '__main__':\n",
        "    sharpen()"
      ],
      "execution_count": null,
      "outputs": []
    },
    {
      "cell_type": "code",
      "metadata": {
        "id": "qjM_pLJrduYO",
        "colab_type": "code",
        "colab": {}
      },
      "source": [
        "def bright():\n",
        "    outPath = \"/content/gdrive/My Drive/Colab Notebooks/A3 Augmented images/jeans\"\n",
        "    path = \"/content/gdrive/My Drive/Colab Notebooks/Scrap_train/jeans\"\n",
        "\n",
        "    # iterate through the names of contents of the folder\n",
        "    for image_path in os.listdir(path):\n",
        "\n",
        "        # create the full input path and read the file\n",
        "        input_path = os.path.join(path, image_path)\n",
        "        image_to_bright = cv2.imread(input_path)\n",
        "\n",
        "        # bright the image\n",
        "        image= cv2.add(image_to_bright,np.array([50.0]))\n",
        "        \n",
        "\n",
        "\n",
        "        # create full output path, 'example.jpg' \n",
        "        # becomes 'bright_example.jpg', save the file to disk\n",
        "        fullpath = os.path.join(outPath, 'bright_'+image_path)\n",
        "        cv2.imwrite(fullpath, image)\n",
        "\n",
        "if __name__ == '__main__':\n",
        "    bright()"
      ],
      "execution_count": null,
      "outputs": []
    },
    {
      "cell_type": "code",
      "metadata": {
        "id": "IOo_0UDPd2G3",
        "colab_type": "code",
        "colab": {}
      },
      "source": [
        "#decreasing brightness\n",
        "def decbright():\n",
        "    outPath = \"/content/gdrive/My Drive/Colab Notebooks/A3 Augmented images/jeans\"\n",
        "    path = \"/content/gdrive/My Drive/Colab Notebooks/Scrap_train/jeans\"\n",
        "\n",
        "    # iterate through the names of contents of the folder\n",
        "    for image_path in os.listdir(path):\n",
        "\n",
        "        # create the full input path and read the file\n",
        "        input_path = os.path.join(path, image_path)\n",
        "        image_to_bright = cv2.imread(input_path)\n",
        "\n",
        "        # bright the image\n",
        "        image= cv2.add(image_to_bright,np.array([-50.0]))\n",
        "        \n",
        "\n",
        "\n",
        "        # create full output path, 'example.jpg' \n",
        "        # becomes 'bright_example.jpg', save the file to disk\n",
        "        fullpath = os.path.join(outPath, 'decbright_'+image_path)\n",
        "        cv2.imwrite(fullpath, image)\n",
        "\n",
        "if __name__ == '__main__':\n",
        "    decbright()"
      ],
      "execution_count": null,
      "outputs": []
    },
    {
      "cell_type": "markdown",
      "metadata": {
        "id": "i9by_mG4eaYg",
        "colab_type": "text"
      },
      "source": [
        "Data Augmentation using opencv (sarees)\n"
      ]
    },
    {
      "cell_type": "code",
      "metadata": {
        "id": "3rW_CnXqeOb8",
        "colab_type": "code",
        "colab": {}
      },
      "source": [
        "def rotate():\n",
        "    outPath = \"/content/gdrive/My Drive/Colab Notebooks/A3 Augmented images/sarees\"\n",
        "    path = \"/content/gdrive/My Drive/Colab Notebooks/Scrap_train/saree\"\n",
        "\n",
        "    # iterate through the names of contents of the folder\n",
        "    for image_path in os.listdir(path):\n",
        "\n",
        "        # create the full input path and read the file\n",
        "        input_path = os.path.join(path, image_path)\n",
        "        image_to_rotate = cv2.imread(input_path)\n",
        "\n",
        "        # rotate the image\n",
        "        img_rotate_90_clockwise = cv2.rotate(image_to_rotate, cv2.ROTATE_90_CLOCKWISE)\n",
        "\n",
        "\n",
        "        # create full output path, 'example.jpg' \n",
        "        # becomes 'rotate_example.jpg', save the file to disk\n",
        "        fullpath = os.path.join(outPath, 'rotated_'+image_path)\n",
        "        cv2.imwrite(fullpath, img_rotate_90_clockwise)\n",
        "\n",
        "if __name__ == '__main__':\n",
        "    rotate()"
      ],
      "execution_count": null,
      "outputs": []
    },
    {
      "cell_type": "code",
      "metadata": {
        "id": "UKEPECvfemjC",
        "colab_type": "code",
        "colab": {}
      },
      "source": [
        "def bright():\n",
        "    outPath = \"/content/gdrive/My Drive/Colab Notebooks/A3 Augmented images/sarees\"\n",
        "    path = \"/content/gdrive/My Drive/Colab Notebooks/Scrap_train/saree\"\n",
        "\n",
        "    # iterate through the names of contents of the folder\n",
        "    for image_path in os.listdir(path):\n",
        "\n",
        "        # create the full input path and read the file\n",
        "        input_path = os.path.join(path, image_path)\n",
        "        image_to_bright = cv2.imread(input_path)\n",
        "\n",
        "        # bright the image\n",
        "        image= cv2.add(image_to_bright,np.array([50.0]))\n",
        "        \n",
        "\n",
        "\n",
        "        # create full output path, 'example.jpg' \n",
        "        # becomes 'bright_example.jpg', save the file to disk\n",
        "        fullpath = os.path.join(outPath, 'bright_'+image_path)\n",
        "        cv2.imwrite(fullpath, image)\n",
        "\n",
        "if __name__ == '__main__':\n",
        "    bright()"
      ],
      "execution_count": null,
      "outputs": []
    },
    {
      "cell_type": "code",
      "metadata": {
        "id": "zX0NRvyfewAh",
        "colab_type": "code",
        "colab": {}
      },
      "source": [
        "\n",
        "def decbright():\n",
        "    outPath = \"/content/gdrive/My Drive/Colab Notebooks/A3 Augmented images/sarees\"\n",
        "    path = \"/content/gdrive/My Drive/Colab Notebooks/Scrap_train/saree\"\n",
        "\n",
        "    # iterate through the names of contents of the folder\n",
        "    for image_path in os.listdir(path):\n",
        "\n",
        "        # create the full input path and read the file\n",
        "        input_path = os.path.join(path, image_path)\n",
        "        image_to_bright = cv2.imread(input_path)\n",
        "\n",
        "        # bright the image\n",
        "        image= cv2.add(image_to_bright,np.array([-50.0]))\n",
        "        \n",
        "\n",
        "\n",
        "        # create full output path, 'example.jpg' \n",
        "        # becomes 'bright_example.jpg', save the file to disk\n",
        "        fullpath = os.path.join(outPath, 'decbright_'+image_path)\n",
        "        cv2.imwrite(fullpath, image)\n",
        "\n",
        "if __name__ == '__main__':\n",
        "    decbright()"
      ],
      "execution_count": null,
      "outputs": []
    },
    {
      "cell_type": "code",
      "metadata": {
        "id": "R5MHwgFffPIh",
        "colab_type": "code",
        "colab": {}
      },
      "source": [
        "def flip():\n",
        "    outPath = \"/content/gdrive/My Drive/Colab Notebooks/A3 Augmented images/sarees\"\n",
        "    path = \"/content/gdrive/My Drive/Colab Notebooks/Scrap_train/saree\"\n",
        "\n",
        "    # iterate through the names of contents of the folder\n",
        "    for image_path in os.listdir(path):\n",
        "\n",
        "        # create the full input path and read the file\n",
        "        input_path = os.path.join(path, image_path)\n",
        "        image_to_flip = cv2.imread(input_path)\n",
        "\n",
        "        # flip the image\n",
        "        img_flip_ud = cv2.flip(image_to_flip, 0)\n",
        "        \n",
        "\n",
        "\n",
        "        # create full output path, 'example.jpg' \n",
        "        # becomes 'flip_example.jpg', save the file to disk\n",
        "        fullpath = os.path.join(outPath, 'flip_'+image_path)\n",
        "        cv2.imwrite(fullpath, img_flip_ud)\n",
        "\n",
        "if __name__ == '__main__':\n",
        "    flip()"
      ],
      "execution_count": null,
      "outputs": []
    },
    {
      "cell_type": "code",
      "metadata": {
        "id": "EP_erkjdfYP2",
        "colab_type": "code",
        "colab": {}
      },
      "source": [
        "\n",
        "def resize():\n",
        "    outPath = \"/content/gdrive/My Drive/Colab Notebooks/A3 Augmented images/sarees\"\n",
        "    path = \"/content/gdrive/My Drive/Colab Notebooks/Scrap_train/saree\"\n",
        "\n",
        "    # iterate through the names of contents of the folder\n",
        "    for image_path in os.listdir(path):\n",
        "\n",
        "        # create the full input path and read the file\n",
        "        input_path = os.path.join(path, image_path)\n",
        "        image_to_resize = cv2.imread(input_path)\n",
        "\n",
        "        # resize the image\n",
        "        image_resized = cv2.resize(image_to_resize, (300, 200))\n",
        "\n",
        "        image_rgb = cv2.cvtColor(image_to_resize, cv2.COLOR_BGR2RGB)\n",
        "\n",
        "        # create full output path, 'example.jpg' \n",
        "        # becomes 'resize_example.jpg', save the file to disk\n",
        "        fullpath = os.path.join(outPath, 'resize_'+image_path)\n",
        "        cv2.imwrite(fullpath, image_resized)\n",
        "\n",
        "if __name__ == '__main__':\n",
        "    resize()"
      ],
      "execution_count": null,
      "outputs": []
    },
    {
      "cell_type": "code",
      "metadata": {
        "id": "Str0df8Oiqmk",
        "colab_type": "code",
        "colab": {}
      },
      "source": [
        "def sharpen():\n",
        "    outPath = \"/content/gdrive/My Drive/Colab Notebooks/A3 Augmented images/sarees\"\n",
        "    path = \"/content/gdrive/My Drive/Colab Notebooks/Scrap_train/saree\"\n",
        "\n",
        "    # iterate through the names of contents of the folder\n",
        "    for image_path in os.listdir(path):\n",
        "\n",
        "        # create the full input path and read the file\n",
        "        input_path = os.path.join(path, image_path)\n",
        "        image_to_sharp = cv2.imread(input_path)\n",
        "\n",
        "        # sharp the image\n",
        "        kernel = np.array([[0, -1, 0], \n",
        "                   [-1, 5,-1], \n",
        "                   [0, -1, 0]])\n",
        "        \n",
        "\n",
        "        # Sharpen image\n",
        "        image_sharp = cv2.filter2D(image_to_sharp, -1, kernel)\n",
        "        \n",
        "        # create full output path, 'example.jpg' \n",
        "        # becomes 'sharp_example.jpg', save the file to disk\n",
        "        fullpath = os.path.join(outPath, 'sharp_'+image_path)\n",
        "        cv2.imwrite(fullpath, image_sharp)\n",
        "\n",
        "if __name__ == '__main__':\n",
        "    sharpen()"
      ],
      "execution_count": null,
      "outputs": []
    },
    {
      "cell_type": "markdown",
      "metadata": {
        "id": "sSaICn13i2WM",
        "colab_type": "text"
      },
      "source": [
        "Data Augmentation using opencv (trousers)"
      ]
    },
    {
      "cell_type": "code",
      "metadata": {
        "id": "oTEYT1XgiyqP",
        "colab_type": "code",
        "colab": {}
      },
      "source": [
        "def rotate():\n",
        "    outPath = \"/content/gdrive/My Drive/Colab Notebooks/A3 Augmented images/trousers\"\n",
        "    path = \"/content/gdrive/My Drive/Colab Notebooks/Scrap_train/trousers\"\n",
        "\n",
        "    # iterate through the names of contents of the folder\n",
        "    for image_path in os.listdir(path):\n",
        "\n",
        "        # create the full input path and read the file\n",
        "        input_path = os.path.join(path, image_path)\n",
        "        image_to_rotate = cv2.imread(input_path)\n",
        "\n",
        "        # rotate the image\n",
        "        img_rotate_90_clockwise = cv2.rotate(image_to_rotate, cv2.ROTATE_90_CLOCKWISE)\n",
        "\n",
        "\n",
        "        # create full output path, 'example.jpg' \n",
        "        # becomes 'rotate_example.jpg', save the file to disk\n",
        "        fullpath = os.path.join(outPath, 'rotated_'+image_path)\n",
        "        cv2.imwrite(fullpath, img_rotate_90_clockwise)\n",
        "\n",
        "if __name__ == '__main__':\n",
        "    rotate()"
      ],
      "execution_count": null,
      "outputs": []
    },
    {
      "cell_type": "code",
      "metadata": {
        "id": "y4QcPvyFjLO8",
        "colab_type": "code",
        "colab": {}
      },
      "source": [
        "def resize():\n",
        "    outPath = \"/content/gdrive/My Drive/Colab Notebooks/A3 Augmented images/trousers\"\n",
        "    path = \"/content/gdrive/My Drive/Colab Notebooks/Scrap_train/trousers\"\n",
        "\n",
        "    # iterate through the names of contents of the folder\n",
        "    for image_path in os.listdir(path):\n",
        "\n",
        "        # create the full input path and read the file\n",
        "        input_path = os.path.join(path, image_path)\n",
        "        image_to_resize = cv2.imread(input_path)\n",
        "\n",
        "        # resize the image\n",
        "        image_resized = cv2.resize(image_to_resize, (300, 200))\n",
        "\n",
        "        image_rgb = cv2.cvtColor(image_to_resize, cv2.COLOR_BGR2RGB)\n",
        "\n",
        "        # create full output path, 'example.jpg' \n",
        "        # becomes 'resize_example.jpg', save the file to disk\n",
        "        fullpath = os.path.join(outPath, 'resize_'+image_path)\n",
        "        cv2.imwrite(fullpath, image_resized)\n",
        "\n",
        "if __name__ == '__main__':\n",
        "    resize()"
      ],
      "execution_count": null,
      "outputs": []
    },
    {
      "cell_type": "code",
      "metadata": {
        "id": "xFlR_84DjTFb",
        "colab_type": "code",
        "colab": {}
      },
      "source": [
        "\n",
        "def flip():\n",
        "    outPath = \"/content/gdrive/My Drive/Colab Notebooks/A3 Augmented images/trousers\"\n",
        "    path = \"/content/gdrive/My Drive/Colab Notebooks/Scrap_train/trousers\"\n",
        "\n",
        "    # iterate through the names of contents of the folder\n",
        "    for image_path in os.listdir(path):\n",
        "\n",
        "        # create the full input path and read the file\n",
        "        input_path = os.path.join(path, image_path)\n",
        "        image_to_flip = cv2.imread(input_path)\n",
        "\n",
        "        # flip the image\n",
        "        img_flip_ud = cv2.flip(image_to_flip, 0)\n",
        "        \n",
        "\n",
        "\n",
        "        # create full output path, 'example.jpg' \n",
        "        # becomes 'flip_example.jpg', save the file to disk\n",
        "        fullpath = os.path.join(outPath, 'flip_'+image_path)\n",
        "        cv2.imwrite(fullpath, img_flip_ud)\n",
        "\n",
        "if __name__ == '__main__':\n",
        "    flip()"
      ],
      "execution_count": null,
      "outputs": []
    },
    {
      "cell_type": "code",
      "metadata": {
        "id": "amPGMTZvjTBr",
        "colab_type": "code",
        "colab": {}
      },
      "source": [
        "def sharpen():\n",
        "    outPath = \"/content/gdrive/My Drive/Colab Notebooks/A3 Augmented images/trousers\"\n",
        "    path = \"/content/gdrive/My Drive/Colab Notebooks/Scrap_train/trousers\"\n",
        "\n",
        "    # iterate through the names of contents of the folder\n",
        "    for image_path in os.listdir(path):\n",
        "\n",
        "        # create the full input path and read the file\n",
        "        input_path = os.path.join(path, image_path)\n",
        "        image_to_sharp = cv2.imread(input_path)\n",
        "\n",
        "        # sharp the image\n",
        "        kernel = np.array([[0, -1, 0], \n",
        "                   [-1, 5,-1], \n",
        "                   [0, -1, 0]])\n",
        "        \n",
        "\n",
        "        # Sharpen image\n",
        "        image_sharp = cv2.filter2D(image_to_sharp, -1, kernel)\n",
        "        \n",
        "        # create full output path, 'example.jpg' \n",
        "        # becomes 'sharp_example.jpg', save the file to disk\n",
        "        fullpath = os.path.join(outPath, 'sharp_'+image_path)\n",
        "        cv2.imwrite(fullpath, image_sharp)\n",
        "\n",
        "if __name__ == '__main__':\n",
        "    sharpen()"
      ],
      "execution_count": null,
      "outputs": []
    },
    {
      "cell_type": "code",
      "metadata": {
        "id": "XD41bxbjjS-0",
        "colab_type": "code",
        "colab": {}
      },
      "source": [
        "def bright():\n",
        "    outPath = \"/content/gdrive/My Drive/Colab Notebooks/A3 Augmented images/trousers\"\n",
        "    path = \"/content/gdrive/My Drive/Colab Notebooks/Scrap_train/trousers\"\n",
        "\n",
        "    # iterate through the names of contents of the folder\n",
        "    for image_path in os.listdir(path):\n",
        "\n",
        "        # create the full input path and read the file\n",
        "        input_path = os.path.join(path, image_path)\n",
        "        image_to_bright = cv2.imread(input_path)\n",
        "\n",
        "        # bright the image\n",
        "        image= cv2.add(image_to_bright,np.array([50.0]))\n",
        "        \n",
        "\n",
        "\n",
        "        # create full output path, 'example.jpg' \n",
        "        # becomes 'bright_example.jpg', save the file to disk\n",
        "        fullpath = os.path.join(outPath, 'bright_'+image_path)\n",
        "        cv2.imwrite(fullpath, image)\n",
        "\n",
        "if __name__ == '__main__':\n",
        "    bright()"
      ],
      "execution_count": null,
      "outputs": []
    },
    {
      "cell_type": "code",
      "metadata": {
        "id": "iaMTUIjJjS9S",
        "colab_type": "code",
        "colab": {}
      },
      "source": [
        "def decbright():\n",
        "    outPath = \"/content/gdrive/My Drive/Colab Notebooks/A3 Augmented images/trousers\"\n",
        "    path = \"/content/gdrive/My Drive/Colab Notebooks/Scrap_train/trousers\"\n",
        "\n",
        "    # iterate through the names of contents of the folder\n",
        "    for image_path in os.listdir(path):\n",
        "\n",
        "        # create the full input path and read the file\n",
        "        input_path = os.path.join(path, image_path)\n",
        "        image_to_bright = cv2.imread(input_path)\n",
        "\n",
        "        # bright the image\n",
        "        image= cv2.add(image_to_bright,np.array([-50.0]))\n",
        "        \n",
        "\n",
        "\n",
        "        # create full output path, 'example.jpg' \n",
        "        # becomes 'bright_example.jpg', save the file to disk\n",
        "        fullpath = os.path.join(outPath, 'decbright_'+image_path)\n",
        "        cv2.imwrite(fullpath, image)\n",
        "\n",
        "if __name__ == '__main__':\n",
        "    decbright()"
      ],
      "execution_count": null,
      "outputs": []
    },
    {
      "cell_type": "markdown",
      "metadata": {
        "id": "VE3D_ExEjzxy",
        "colab_type": "text"
      },
      "source": [
        "BUILDING CONVOLUTIONAL NEURAL NETWORK"
      ]
    },
    {
      "cell_type": "code",
      "metadata": {
        "id": "z73f9qLGjS4H",
        "colab_type": "code",
        "colab": {
          "base_uri": "https://localhost:8080/",
          "height": 34
        },
        "outputId": "04ec3d34-c995-4459-819b-fe8af3d8adbf"
      },
      "source": [
        "from keras.models import Sequential\n",
        "from keras.layers import Conv2D, MaxPooling2D\n",
        "from keras.layers import Activation, Dropout, Flatten, Dense\n",
        "from keras import backend as K"
      ],
      "execution_count": null,
      "outputs": [
        {
          "output_type": "stream",
          "text": [
            "Using TensorFlow backend.\n"
          ],
          "name": "stderr"
        }
      ]
    },
    {
      "cell_type": "code",
      "metadata": {
        "id": "gYWC5O7CjS2Y",
        "colab_type": "code",
        "colab": {}
      },
      "source": [
        "# dimensions of our images.\n",
        "input_shape=(150,150,3)\n",
        "img_width, img_height = 150, 150\n",
        "\n",
        "train_data_dir = '/content/gdrive/My Drive/Colab Notebooks/A3 Augmented images'\n",
        "validation_data_dir = '/content/gdrive/My Drive/Colab Notebooks/Scrap_test'"
      ],
      "execution_count": null,
      "outputs": []
    },
    {
      "cell_type": "code",
      "metadata": {
        "id": "k8csVDY8jStD",
        "colab_type": "code",
        "colab": {}
      },
      "source": [
        "from keras.preprocessing.image import ImageDataGenerator, load_img\n"
      ],
      "execution_count": null,
      "outputs": []
    },
    {
      "cell_type": "code",
      "metadata": {
        "id": "iH0-hT7SjShB",
        "colab_type": "code",
        "colab": {
          "base_uri": "https://localhost:8080/",
          "height": 51
        },
        "outputId": "54a86576-19ff-40ac-82bb-68c5992de021"
      },
      "source": [
        "#rescaling data\n",
        "datagen=ImageDataGenerator(rescale=1./255)\n",
        "\n",
        "train_generator=datagen.flow_from_directory(\n",
        "         train_data_dir,\n",
        "         target_size=(img_width,img_height),\n",
        "         batch_size=8,\n",
        "         class_mode='categorical')\n",
        "\n",
        "validation_generator=datagen.flow_from_directory(\n",
        "         validation_data_dir,\n",
        "         target_size=(img_width,img_height),\n",
        "         batch_size=16,\n",
        "         class_mode='categorical')"
      ],
      "execution_count": null,
      "outputs": [
        {
          "output_type": "stream",
          "text": [
            "Found 1842 images belonging to 3 classes.\n",
            "Found 82 images belonging to 3 classes.\n"
          ],
          "name": "stdout"
        }
      ]
    },
    {
      "cell_type": "code",
      "metadata": {
        "id": "1TtI5H04kJjc",
        "colab_type": "code",
        "colab": {}
      },
      "source": [
        "\n",
        "nb_train_samples=1842\n",
        "nb_validation_samples=82\n",
        "batch_size=32\n",
        "epochs=40"
      ],
      "execution_count": null,
      "outputs": []
    },
    {
      "cell_type": "code",
      "metadata": {
        "id": "uvqPnlZFkMkT",
        "colab_type": "code",
        "colab": {
          "base_uri": "https://localhost:8080/",
          "height": 122
        },
        "outputId": "66a8ffdb-5831-4a18-f436-0037759e0fab"
      },
      "source": [
        "#model building\n",
        "model = Sequential()\n",
        "model.add(Conv2D(32, (3, 3), input_shape=input_shape))\n",
        "model.add(Activation('relu'))\n",
        "model.add(MaxPooling2D(pool_size=(2, 2)))\n",
        "model.add(Dropout(0.2))\n",
        "\n",
        "model.add(Conv2D(32, (3, 3)))\n",
        "model.add(Activation('relu'))\n",
        "model.add(MaxPooling2D(pool_size=(2, 2)))\n",
        "model.add(Dropout(0.2))\n",
        "\n",
        "model.add(Conv2D(64, (3, 3)))\n",
        "model.add(Activation('relu'))\n",
        "model.add(MaxPooling2D(pool_size=(2, 2)))\n",
        "model.add(Dropout(0.2))\n",
        "\n",
        "#flatten layer\n",
        "model.add(Flatten()) # Output convert into one dimension layer and will go to Dense layer\n",
        "model.add(Dense(64))\n",
        "model.add(Activation('relu'))\n",
        "model.add(Dropout(0.5))\n",
        "model.add(Dense(1))\n",
        "model.add(Dense(3, activation='softmax'))"
      ],
      "execution_count": null,
      "outputs": [
        {
          "output_type": "stream",
          "text": [
            "WARNING:tensorflow:From /tensorflow-1.15.2/python3.6/tensorflow_core/python/ops/resource_variable_ops.py:1630: calling BaseResourceVariable.__init__ (from tensorflow.python.ops.resource_variable_ops) with constraint is deprecated and will be removed in a future version.\n",
            "Instructions for updating:\n",
            "If using Keras pass *_constraint arguments to layers.\n",
            "WARNING:tensorflow:From /usr/local/lib/python3.6/dist-packages/keras/backend/tensorflow_backend.py:4070: The name tf.nn.max_pool is deprecated. Please use tf.nn.max_pool2d instead.\n",
            "\n"
          ],
          "name": "stdout"
        }
      ]
    },
    {
      "cell_type": "code",
      "metadata": {
        "id": "AnA23Y1fkZjo",
        "colab_type": "code",
        "colab": {
          "base_uri": "https://localhost:8080/",
          "height": 765
        },
        "outputId": "4af22c31-add8-4064-c757-6e0d85d61160"
      },
      "source": [
        "model.summary()\n"
      ],
      "execution_count": null,
      "outputs": [
        {
          "output_type": "stream",
          "text": [
            "Model: \"sequential_1\"\n",
            "_________________________________________________________________\n",
            "Layer (type)                 Output Shape              Param #   \n",
            "=================================================================\n",
            "conv2d_1 (Conv2D)            (None, 148, 148, 32)      896       \n",
            "_________________________________________________________________\n",
            "activation_1 (Activation)    (None, 148, 148, 32)      0         \n",
            "_________________________________________________________________\n",
            "max_pooling2d_1 (MaxPooling2 (None, 74, 74, 32)        0         \n",
            "_________________________________________________________________\n",
            "dropout_1 (Dropout)          (None, 74, 74, 32)        0         \n",
            "_________________________________________________________________\n",
            "conv2d_2 (Conv2D)            (None, 72, 72, 32)        9248      \n",
            "_________________________________________________________________\n",
            "activation_2 (Activation)    (None, 72, 72, 32)        0         \n",
            "_________________________________________________________________\n",
            "max_pooling2d_2 (MaxPooling2 (None, 36, 36, 32)        0         \n",
            "_________________________________________________________________\n",
            "dropout_2 (Dropout)          (None, 36, 36, 32)        0         \n",
            "_________________________________________________________________\n",
            "conv2d_3 (Conv2D)            (None, 34, 34, 64)        18496     \n",
            "_________________________________________________________________\n",
            "activation_3 (Activation)    (None, 34, 34, 64)        0         \n",
            "_________________________________________________________________\n",
            "max_pooling2d_3 (MaxPooling2 (None, 17, 17, 64)        0         \n",
            "_________________________________________________________________\n",
            "dropout_3 (Dropout)          (None, 17, 17, 64)        0         \n",
            "_________________________________________________________________\n",
            "flatten_1 (Flatten)          (None, 18496)             0         \n",
            "_________________________________________________________________\n",
            "dense_1 (Dense)              (None, 64)                1183808   \n",
            "_________________________________________________________________\n",
            "activation_4 (Activation)    (None, 64)                0         \n",
            "_________________________________________________________________\n",
            "dropout_4 (Dropout)          (None, 64)                0         \n",
            "_________________________________________________________________\n",
            "dense_2 (Dense)              (None, 1)                 65        \n",
            "_________________________________________________________________\n",
            "dense_3 (Dense)              (None, 3)                 6         \n",
            "=================================================================\n",
            "Total params: 1,212,519\n",
            "Trainable params: 1,212,519\n",
            "Non-trainable params: 0\n",
            "_________________________________________________________________\n"
          ],
          "name": "stdout"
        }
      ]
    },
    {
      "cell_type": "code",
      "metadata": {
        "id": "rmajiA0okbVy",
        "colab_type": "code",
        "colab": {}
      },
      "source": [
        "from keras.optimizers import Adam\n",
        "opt = Adam(lr=0.001)\n",
        "model.compile(optimizer=opt, loss='categorical_crossentropy', metrics=['accuracy'])"
      ],
      "execution_count": null,
      "outputs": []
    },
    {
      "cell_type": "code",
      "metadata": {
        "id": "tD061iDXk-A_",
        "colab_type": "code",
        "colab": {
          "base_uri": "https://localhost:8080/",
          "height": 918
        },
        "outputId": "f4b59918-d6ff-4417-e77e-5b0eaf52d753"
      },
      "source": [
        "from keras.callbacks import ModelCheckpoint, EarlyStopping\n",
        "checkpoint = ModelCheckpoint(\"Model.h5\", monitor='val_accuracy', verbose=1, save_best_only=True, save_weights_only=False, mode='auto', period=1)\n",
        "early = EarlyStopping(monitor='val_accuracy', min_delta=0, patience=5, verbose=1, mode='auto')\n",
        "\n",
        "\n",
        "history=model.fit_generator(\n",
        "    train_generator,\n",
        "    steps_per_epoch=nb_train_samples//batch_size,\n",
        "    epochs=epochs,\n",
        "    validation_data=validation_generator,\n",
        "    validation_steps=nb_validation_samples//batch_size,\n",
        "    callbacks=[checkpoint,early])"
      ],
      "execution_count": null,
      "outputs": [
        {
          "output_type": "stream",
          "text": [
            "Epoch 1/40\n",
            "57/57 [==============================] - 2s 38ms/step - loss: 0.7770 - accuracy: 0.5911 - val_loss: 0.6559 - val_accuracy: 0.6875\n",
            "\n",
            "Epoch 00001: val_accuracy improved from -inf to 0.68750, saving model to Model.h5\n",
            "Epoch 2/40\n",
            "57/57 [==============================] - 12s 209ms/step - loss: 0.5878 - accuracy: 0.7259 - val_loss: 0.7612 - val_accuracy: 0.6875\n",
            "\n",
            "Epoch 00002: val_accuracy did not improve from 0.68750\n",
            "Epoch 3/40\n",
            "57/57 [==============================] - 8s 141ms/step - loss: 0.6518 - accuracy: 0.6864 - val_loss: 1.1778 - val_accuracy: 0.4444\n",
            "\n",
            "Epoch 00003: val_accuracy did not improve from 0.68750\n",
            "Epoch 4/40\n",
            "57/57 [==============================] - 2s 30ms/step - loss: 0.6159 - accuracy: 0.7303 - val_loss: 0.5778 - val_accuracy: 0.7188\n",
            "\n",
            "Epoch 00004: val_accuracy improved from 0.68750 to 0.71875, saving model to Model.h5\n",
            "Epoch 5/40\n",
            "57/57 [==============================] - 2s 33ms/step - loss: 0.5316 - accuracy: 0.7844 - val_loss: 0.6889 - val_accuracy: 0.6875\n",
            "\n",
            "Epoch 00005: val_accuracy did not improve from 0.71875\n",
            "Epoch 6/40\n",
            "57/57 [==============================] - 2s 31ms/step - loss: 0.5338 - accuracy: 0.7785 - val_loss: 0.4304 - val_accuracy: 0.8333\n",
            "\n",
            "Epoch 00006: val_accuracy improved from 0.71875 to 0.83333, saving model to Model.h5\n",
            "Epoch 7/40\n",
            "57/57 [==============================] - 2s 36ms/step - loss: 0.4745 - accuracy: 0.8443 - val_loss: 0.6514 - val_accuracy: 0.7188\n",
            "\n",
            "Epoch 00007: val_accuracy did not improve from 0.83333\n",
            "Epoch 8/40\n",
            "57/57 [==============================] - 2s 33ms/step - loss: 0.5998 - accuracy: 0.7456 - val_loss: 0.4518 - val_accuracy: 0.8438\n",
            "\n",
            "Epoch 00008: val_accuracy improved from 0.83333 to 0.84375, saving model to Model.h5\n",
            "Epoch 9/40\n",
            "57/57 [==============================] - 2s 34ms/step - loss: 0.4613 - accuracy: 0.8509 - val_loss: 1.1531 - val_accuracy: 0.6667\n",
            "\n",
            "Epoch 00009: val_accuracy did not improve from 0.84375\n",
            "Epoch 10/40\n",
            "57/57 [==============================] - 2s 35ms/step - loss: 0.4584 - accuracy: 0.8772 - val_loss: 0.4224 - val_accuracy: 0.7812\n",
            "\n",
            "Epoch 00010: val_accuracy did not improve from 0.84375\n",
            "Epoch 11/40\n",
            "57/57 [==============================] - 2s 32ms/step - loss: 0.4251 - accuracy: 0.8778 - val_loss: 0.7230 - val_accuracy: 0.8438\n",
            "\n",
            "Epoch 00011: val_accuracy did not improve from 0.84375\n",
            "Epoch 12/40\n",
            "57/57 [==============================] - 2s 33ms/step - loss: 0.4223 - accuracy: 0.8947 - val_loss: 0.3085 - val_accuracy: 0.8333\n",
            "\n",
            "Epoch 00012: val_accuracy did not improve from 0.84375\n",
            "Epoch 13/40\n",
            "57/57 [==============================] - 2s 35ms/step - loss: 0.3809 - accuracy: 0.8684 - val_loss: 0.7101 - val_accuracy: 0.7500\n",
            "\n",
            "Epoch 00013: val_accuracy did not improve from 0.84375\n",
            "Epoch 00013: early stopping\n"
          ],
          "name": "stdout"
        }
      ]
    },
    {
      "cell_type": "code",
      "metadata": {
        "id": "oztPaEQelHXP",
        "colab_type": "code",
        "colab": {
          "base_uri": "https://localhost:8080/",
          "height": 573
        },
        "outputId": "21c6d025-24b0-4a24-c492-1028841d7a30"
      },
      "source": [
        "# Plot training & validation accuracy values\n",
        "import matplotlib.pyplot as plt\n",
        "%matplotlib inline\n",
        "plt.plot(history.history['accuracy'])\n",
        "plt.plot(history.history['val_accuracy'])\n",
        "plt.title('Model accuracy')\n",
        "plt.ylabel('Accuracy')\n",
        "plt.xlabel('Epoch')\n",
        "plt.legend(['Train', 'Val'], loc='upper left')\n",
        "plt.show()\n",
        "\n",
        "# Plot training & validation loss values\n",
        "plt.plot(history.history['loss'])\n",
        "plt.plot(history.history['val_loss'])\n",
        "plt.title('Model loss')\n",
        "plt.ylabel('Loss')\n",
        "plt.xlabel('Epoch')\n",
        "plt.legend(['Train', 'Val'], loc='upper left')\n",
        "plt.show()\n"
      ],
      "execution_count": null,
      "outputs": [
        {
          "output_type": "display_data",
          "data": {
            "image/png": "[encoded data removed]",
            "text/plain": [
              "<Figure size 432x288 with 1 Axes>"
            ]
          },
          "metadata": {
            "tags": [],
            "needs_background": "light"
          }
        },
        {
          "output_type": "display_data",
          "data": {
            "image/png": "[encoded data removed]",
            "text/plain": [
              "<Figure size 432x288 with 1 Axes>"
            ]
          },
          "metadata": {
            "tags": [],
            "needs_background": "light"
          }
        }
      ]
    },
    {
      "cell_type": "code",
      "metadata": {
        "id": "oBDqhxbXlZdf",
        "colab_type": "code",
        "colab": {}
      },
      "source": [
        ""
      ],
      "execution_count": null,
      "outputs": []
    }
  ]
}