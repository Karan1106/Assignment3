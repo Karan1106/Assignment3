{
 "cells": [
  {
   "cell_type": "code",
   "execution_count": 1,
   "metadata": {},
   "outputs": [],
   "source": [
    "from selenium import webdriver\n",
    "import os"
   ]
  },
  {
   "cell_type": "code",
   "execution_count": 2,
   "metadata": {},
   "outputs": [],
   "source": [
    "driver=webdriver.Chrome(executable_path='C:\\\\Users\\\\Karan\\\\Desktop\\\\chromedriver\\\\chromedriver.exe')"
   ]
  },
  {
   "cell_type": "code",
   "execution_count": 3,
   "metadata": {},
   "outputs": [],
   "source": [
    "my_page=driver.get(\"https://www.amazon.in/s?k=sarees&qid=1594245227&ref=sr_pg_1\")"
   ]
  },
  {
   "cell_type": "code",
   "execution_count": 4,
   "metadata": {},
   "outputs": [],
   "source": [
    "#MAking the directory to store images"
   ]
  },
  {
   "cell_type": "code",
   "execution_count": 5,
   "metadata": {},
   "outputs": [],
   "source": [
    "def make_directory(dirname):\n",
    "    current_path= os.getcwd()\n",
    "    path=os.path.join(current_path, dirname)\n",
    "    if not os.path.exists(path):\n",
    "        os.makedirs(path)"
   ]
  },
  {
   "cell_type": "code",
   "execution_count": 6,
   "metadata": {},
   "outputs": [],
   "source": [
    "make_directory(\"amazon_sarees\")"
   ]
  },
  {
   "cell_type": "code",
   "execution_count": 7,
   "metadata": {},
   "outputs": [],
   "source": [
    "#Scraping image URLs"
   ]
  },
  {
   "cell_type": "code",
   "execution_count": 8,
   "metadata": {},
   "outputs": [],
   "source": [
    "images=driver.find_elements_by_xpath(\"//div[@class='a-section aok-relative s-image-tall-aspect']//img\")\n",
    "#print(images)"
   ]
  },
  {
   "cell_type": "code",
   "execution_count": 9,
   "metadata": {},
   "outputs": [
    {
     "data": {
      "text/plain": [
       "65"
      ]
     },
     "execution_count": 9,
     "metadata": {},
     "output_type": "execute_result"
    }
   ],
   "source": [
    "len(images)"
   ]
  },
  {
   "cell_type": "code",
   "execution_count": 10,
   "metadata": {},
   "outputs": [
    {
     "name": "stdout",
     "output_type": "stream",
     "text": [
      "https://m.media-amazon.com/images/I/81CfH-VQlkL._AC_UL320_.jpg\n",
      "https://m.media-amazon.com/images/I/81jsRlQfYwL._AC_UL320_.jpg\n",
      "https://m.media-amazon.com/images/I/61edOsxCsIL._AC_UL320_.jpg\n",
      "https://m.media-amazon.com/images/I/816miR1C12L._AC_UL320_.jpg\n",
      "https://m.media-amazon.com/images/I/81XKaSKvlyL._AC_UL320_.jpg\n",
      "https://m.media-amazon.com/images/I/71p0MOTaZ3L._AC_UL320_.jpg\n",
      "https://m.media-amazon.com/images/I/81HlwcMxRvL._AC_UL320_.jpg\n",
      "https://m.media-amazon.com/images/I/818waCM6fIL._AC_UL320_.jpg\n",
      "https://m.media-amazon.com/images/I/81f8Vl9GkqL._AC_UL320_.jpg\n",
      "https://m.media-amazon.com/images/I/81-uuEDvnQL._AC_UL320_.jpg\n",
      "https://m.media-amazon.com/images/I/51HvuDiGTLL._AC_UL320_.jpg\n",
      "https://m.media-amazon.com/images/I/71LZF0v4o8L._AC_UL320_.jpg\n",
      "https://m.media-amazon.com/images/I/81Go-YQRDwL._AC_UL320_.jpg\n",
      "https://m.media-amazon.com/images/I/9114kTDpPUL._AC_UL320_.jpg\n",
      "https://m.media-amazon.com/images/I/81+WnRqindL._AC_UL320_.jpg\n",
      "https://m.media-amazon.com/images/I/81XKaSKvlyL._AC_UL320_.jpg\n",
      "https://m.media-amazon.com/images/I/81ujgS5lKqL._AC_UL320_.jpg\n",
      "https://m.media-amazon.com/images/I/81VS9g8uwUL._AC_UL320_.jpg\n",
      "https://m.media-amazon.com/images/I/91J92wiWVML._AC_UL320_.jpg\n",
      "https://m.media-amazon.com/images/I/91+auNsyHVL._AC_UL320_.jpg\n",
      "https://m.media-amazon.com/images/I/A1z-paKBsmL._AC_UL320_.jpg\n",
      "https://m.media-amazon.com/images/I/91S2jHgRHuL._AC_UL320_.jpg\n",
      "https://m.media-amazon.com/images/I/618-hsWwAUL._AC_UL320_.jpg\n",
      "https://m.media-amazon.com/images/I/71+1bC-NUkL._AC_UL320_.jpg\n",
      "https://m.media-amazon.com/images/I/917ba4sf+DL._AC_UL320_.jpg\n",
      "https://m.media-amazon.com/images/I/71B6xDQzWkL._AC_UL320_.jpg\n",
      "https://m.media-amazon.com/images/I/81YHkmr-0QL._AC_UL320_.jpg\n",
      "https://m.media-amazon.com/images/I/91whqEzp5rL._AC_UL320_.jpg\n",
      "https://m.media-amazon.com/images/I/81mssAXQk3L._AC_UL320_.jpg\n",
      "https://m.media-amazon.com/images/I/71RTKgQ2SmL._AC_UL320_.jpg\n",
      "https://m.media-amazon.com/images/I/61qdKQMwmFL._AC_UL320_.jpg\n",
      "https://m.media-amazon.com/images/I/911nz9shkNL._AC_UL320_.jpg\n",
      "https://m.media-amazon.com/images/I/41WiiXY4HOL._AC_UL320_.jpg\n",
      "https://m.media-amazon.com/images/I/81-VQaYwBBL._AC_UL320_.jpg\n",
      "https://m.media-amazon.com/images/I/61JD+Z0MloL._AC_UL320_.jpg\n",
      "https://m.media-amazon.com/images/I/810Kq7xQvtL._AC_UL320_.jpg\n",
      "https://m.media-amazon.com/images/I/81dkSgs7nsL._AC_UL320_.jpg\n",
      "https://m.media-amazon.com/images/I/81HWahslWUL._AC_UL320_.jpg\n",
      "https://m.media-amazon.com/images/I/71J1QFsyWHL._AC_UL320_.jpg\n",
      "https://m.media-amazon.com/images/I/81MSqXnwSkL._AC_UL320_.jpg\n",
      "https://m.media-amazon.com/images/I/71-fmGvNgSL._AC_UL320_.jpg\n",
      "https://m.media-amazon.com/images/I/81N8ZoadsFL._AC_UL320_.jpg\n",
      "https://m.media-amazon.com/images/I/81YQ4TOE5kL._AC_UL320_.jpg\n",
      "https://m.media-amazon.com/images/I/81JxWA-m4SL._AC_UL320_.jpg\n",
      "https://m.media-amazon.com/images/I/41d3j5snhpL._AC_UL320_.jpg\n",
      "https://m.media-amazon.com/images/I/81ABAzXsQ5L._AC_UL320_.jpg\n",
      "https://m.media-amazon.com/images/I/911nz9shkNL._AC_UL320_.jpg\n",
      "https://m.media-amazon.com/images/I/71CPfiKpWmL._AC_UL320_.jpg\n",
      "https://m.media-amazon.com/images/I/61nLoEUtawL._AC_UL320_.jpg\n",
      "https://m.media-amazon.com/images/I/71ejnplhxUL._AC_UL320_.jpg\n",
      "https://m.media-amazon.com/images/I/91NtqE1gRrL._AC_UL320_.jpg\n",
      "https://m.media-amazon.com/images/I/81NMdW41HDL._AC_UL320_.jpg\n",
      "https://m.media-amazon.com/images/I/81uSvaWKNtL._AC_UL320_.jpg\n",
      "https://m.media-amazon.com/images/I/91JkkNBRGDL._AC_UL320_.jpg\n",
      "https://m.media-amazon.com/images/I/81njj0BFP6L._AC_UL320_.jpg\n",
      "https://m.media-amazon.com/images/I/81Fa1VboGFL._AC_UL320_.jpg\n",
      "https://m.media-amazon.com/images/I/71W3mB2X5rL._AC_UL320_.jpg\n",
      "https://m.media-amazon.com/images/I/81-xW0yWsvL._AC_UL320_.jpg\n",
      "https://m.media-amazon.com/images/I/61DVYtYxadL._AC_UL320_.jpg\n",
      "https://m.media-amazon.com/images/I/71bkuWpOH+L._AC_UL320_.jpg\n",
      "https://m.media-amazon.com/images/I/81h7PuLq-yL._AC_UL320_.jpg\n",
      "https://m.media-amazon.com/images/I/71FMeXyd4zL._AC_UL320_.jpg\n",
      "https://m.media-amazon.com/images/I/81rFPwAHNAL._AC_UL320_.jpg\n",
      "https://m.media-amazon.com/images/I/91cU1tbMKxL._AC_UL320_.jpg\n",
      "https://m.media-amazon.com/images/I/81uw4CWlC+L._AC_UL320_.jpg\n"
     ]
    }
   ],
   "source": [
    "urls=[]\n",
    "for image in images:\n",
    "    source=image.get_attribute('src')\n",
    "    urls.append(source)\n",
    "    print(source)"
   ]
  },
  {
   "cell_type": "code",
   "execution_count": 11,
   "metadata": {},
   "outputs": [],
   "source": [
    "#USing URls to download images"
   ]
  },
  {
   "cell_type": "code",
   "execution_count": 12,
   "metadata": {},
   "outputs": [],
   "source": [
    "import shutil\n",
    "import requests"
   ]
  },
  {
   "cell_type": "code",
   "execution_count": 13,
   "metadata": {},
   "outputs": [
    {
     "name": "stdout",
     "output_type": "stream",
     "text": [
      "Downloading 1 of 65 images\n",
      "Downloading 2 of 65 images\n",
      "Downloading 3 of 65 images\n",
      "Downloading 4 of 65 images\n",
      "Downloading 5 of 65 images\n",
      "Downloading 6 of 65 images\n",
      "Downloading 7 of 65 images\n",
      "Downloading 8 of 65 images\n",
      "Downloading 9 of 65 images\n",
      "Downloading 10 of 65 images\n",
      "Downloading 11 of 65 images\n",
      "Downloading 12 of 65 images\n",
      "Downloading 13 of 65 images\n",
      "Downloading 14 of 65 images\n",
      "Downloading 15 of 65 images\n",
      "Downloading 16 of 65 images\n",
      "Downloading 17 of 65 images\n",
      "Downloading 18 of 65 images\n",
      "Downloading 19 of 65 images\n",
      "Downloading 20 of 65 images\n",
      "Downloading 21 of 65 images\n",
      "Downloading 22 of 65 images\n",
      "Downloading 23 of 65 images\n",
      "Downloading 24 of 65 images\n",
      "Downloading 25 of 65 images\n",
      "Downloading 26 of 65 images\n",
      "Downloading 27 of 65 images\n",
      "Downloading 28 of 65 images\n",
      "Downloading 29 of 65 images\n",
      "Downloading 30 of 65 images\n",
      "Downloading 31 of 65 images\n",
      "Downloading 32 of 65 images\n",
      "Downloading 33 of 65 images\n",
      "Downloading 34 of 65 images\n",
      "Downloading 35 of 65 images\n",
      "Downloading 36 of 65 images\n",
      "Downloading 37 of 65 images\n",
      "Downloading 38 of 65 images\n",
      "Downloading 39 of 65 images\n",
      "Downloading 40 of 65 images\n",
      "Downloading 41 of 65 images\n",
      "Downloading 42 of 65 images\n",
      "Downloading 43 of 65 images\n",
      "Downloading 44 of 65 images\n",
      "Downloading 45 of 65 images\n",
      "Downloading 46 of 65 images\n",
      "Downloading 47 of 65 images\n",
      "Downloading 48 of 65 images\n",
      "Downloading 49 of 65 images\n",
      "Downloading 50 of 65 images\n",
      "Downloading 51 of 65 images\n",
      "Downloading 52 of 65 images\n",
      "Downloading 53 of 65 images\n",
      "Downloading 54 of 65 images\n",
      "Downloading 55 of 65 images\n",
      "Downloading 56 of 65 images\n",
      "Downloading 57 of 65 images\n",
      "Downloading 58 of 65 images\n",
      "Downloading 59 of 65 images\n",
      "Downloading 60 of 65 images\n",
      "Downloading 61 of 65 images\n",
      "Downloading 62 of 65 images\n",
      "Downloading 63 of 65 images\n",
      "Downloading 64 of 65 images\n",
      "Downloading 65 of 65 images\n"
     ]
    }
   ],
   "source": [
    "for index, link in enumerate(urls):\n",
    "    print(\"Downloading {0} of {1} images\". format(index+1, len(urls)))\n",
    "    response = requests.get(link)\n",
    "    with open('amazon_sarees/img_{0}.jpeg'.format(index), \"wb\") as file:\n",
    "        file.write(response.content)"
   ]
  },
  {
   "cell_type": "code",
   "execution_count": null,
   "metadata": {},
   "outputs": [],
   "source": []
  }
 ],
 "metadata": {
  "kernelspec": {
   "display_name": "Python 3",
   "language": "python",
   "name": "python3"
  },
  "language_info": {
   "codemirror_mode": {
    "name": "ipython",
    "version": 3
   },
   "file_extension": ".py",
   "mimetype": "text/x-python",
   "name": "python",
   "nbconvert_exporter": "python",
   "pygments_lexer": "ipython3",
   "version": "3.7.3"
  }
 },
 "nbformat": 4,
 "nbformat_minor": 4
}
